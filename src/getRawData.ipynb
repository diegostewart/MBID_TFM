{
 "cells": [
  {
   "cell_type": "code",
   "execution_count": null,
   "metadata": {},
   "outputs": [],
   "source": [
    "from dotenv import load_dotenv,find_dotenv\n",
    "import os\n",
    "import pandas as pd\n",
    "from binance.client import Client\n",
    "import requests\n",
    "import json\n",
    "import time\n",
    "import functions as f "
   ]
  },
  {
   "cell_type": "code",
   "execution_count": null,
   "metadata": {},
   "outputs": [],
   "source": [
    "# Define the path to the .env file\n",
    "load_dotenv(find_dotenv('secrets.env'))\n",
    "api_key = os.getenv('API_KEY')\n",
    "api_secret = os.getenv('API_SECRET')\n",
    "\n",
    "# Initialize our client\n",
    "client = Client(api_key, api_secret, testnet=True)"
   ]
  },
  {
   "cell_type": "code",
   "execution_count": null,
   "metadata": {},
   "outputs": [],
   "source": [
    "# Define our weight variable to control API limits\n",
    "current_API_weight = 0\n",
    "MAX_API_WEIGHT = 5500"
   ]
  },
  {
   "cell_type": "code",
   "execution_count": 2,
   "metadata": {},
   "outputs": [],
   "source": [
    "# Helper function to control API limits\n",
    "def check_API_limits():\n",
    "    global current_API_weight\n",
    "    if current_API_weight >= MAX_API_WEIGHT:\n",
    "        current_time = time.localtime()\n",
    "        # seconds remaining until the end of the current minute\n",
    "        seconds_left = 60 - current_time.tm_sec\n",
    "        print(\n",
    "            f\"API limit exceeded with weight = {current_API_weight}. Waiting for {seconds_left} seconds.\")\n",
    "        time.sleep(seconds_left)\n",
    "        current_API_weight = 0\n",
    "\n",
    "\n",
    "# We should add start time and end time, and limit to 1000.\n",
    "        \n",
    "def get_klines_data(symbol, interval,startTime,endTime,limit):\n",
    "    global current_API_weight\n",
    "    check_API_limits()\n",
    "    url = 'https://api1.binance.com'\n",
    "    api_call = f'''/api/v3/klines?symbol={symbol}\n",
    "                    &interval={interval}\n",
    "                    &startTime={int(startTime)}\n",
    "                    &endTime={int(endTime)}\n",
    "                    &limit={int(limit)}'''  \n",
    "    headers = {'content-type': 'application/json', 'X-MBX-APIKEY': api_key}\n",
    "\n",
    "    response = requests.get(url + api_call, headers=headers)\n",
    "    response_text = json.loads(response.text)\n",
    "    current_API_weight = int(response.headers.get('x-mbx-used-weight-1m'))\n",
    "    return(response_text)"
   ]
  },
  {
   "cell_type": "code",
   "execution_count": null,
   "metadata": {},
   "outputs": [],
   "source": [
    "# Loading strategy:\n",
    "# We have a max of 1000 rows by petition.\n",
    "# for each day we need to retrieve 1440 rows (1 for each minute)\n",
    "# So we split the day in two and do 720 as a limit and add that time to  the startin Unix Epoch\n",
    "\n",
    "start_date = '2023-01-03 08:00:00' #(2020-01-03 08:00:00)\n",
    "end_date = '2024-01-03 08:00:00' # (2020-01-05 08:00:00)\n",
    "\n",
    "start_date_Unix = f.datetime_to_unix(start_date)\n",
    "end_date_Unix = f.datetime_to_unix(end_date)\n",
    "halfDay_ms = 43200000\n",
    "\n",
    "# Define column names\n",
    "columns = ['timestamp',\n",
    "            'open',\n",
    "            'high',\n",
    "            'low', \n",
    "            'close', \n",
    "            'volume', \n",
    "            'close_time', \n",
    "            'quote_asset_volume', \n",
    "            'number_of_trades', \n",
    "            'taker_buy_base_asset_volume', \n",
    "            'taker_buy_quote_asset_volume', \n",
    "            'unused_field']\n",
    "\n",
    "# Create an empty DataFrame\n",
    "df = pd.DataFrame(columns=columns)\n",
    "\n",
    "pointer_date = start_date_Unix\n",
    "while pointer_date < end_date_Unix:\n",
    "    print(f.unix_to_datetime(pointer_date))\n",
    "    data = get_klines_data('BTCEUR', '1m',pointer_date,pointer_date+halfDay_ms,'720')\n",
    "    df_data = pd.DataFrame(data, columns=columns)\n",
    "    df = pd.concat([df,df_data])    \n",
    "    pointer_date += halfDay_ms\n",
    "\n",
    "df.to_csv('2023_BTCEUR.csv')"
   ]
  },
  {
   "cell_type": "code",
   "execution_count": null,
   "metadata": {},
   "outputs": [],
   "source": [
    "df.to_csv('2023_BTCEUR.csv')"
   ]
  },
  {
   "cell_type": "code",
   "execution_count": null,
   "metadata": {},
   "outputs": [],
   "source": [
    "# List of file paths\n",
    "file_paths = ['2020_BTCEUR.csv', '2021_BTCEUR.csv', '2022_BTCEUR.csv','2023_BTCEUR.csv']\n",
    "\n",
    "# Create an empty DataFrame to store the combined data\n",
    "combined_df = pd.DataFrame()\n",
    "\n",
    "# Read and append each CSV file to the combined DataFrame\n",
    "for file_path in file_paths:\n",
    "    df = pd.read_csv(file_path)\n",
    "    combined_df = pd.concat([combined_df,df])\n",
    "\n",
    "# Export the combined DataFrame to a single CSV file\n",
    "combined_df.to_csv('BTCEUR.csv', index=False)"
   ]
  }
 ],
 "metadata": {
  "kernelspec": {
   "display_name": "Python 3",
   "language": "python",
   "name": "python3"
  },
  "language_info": {
   "codemirror_mode": {
    "name": "ipython",
    "version": 3
   },
   "file_extension": ".py",
   "mimetype": "text/x-python",
   "name": "python",
   "nbconvert_exporter": "python",
   "pygments_lexer": "ipython3",
   "version": "3.10.6"
  }
 },
 "nbformat": 4,
 "nbformat_minor": 2
}
