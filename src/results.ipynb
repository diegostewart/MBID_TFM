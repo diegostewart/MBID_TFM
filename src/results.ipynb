{
 "cells": [
  {
   "cell_type": "code",
   "execution_count": 17,
   "metadata": {},
   "outputs": [],
   "source": [
    "from cassandra.cluster import Cluster\n",
    "import dash_bootstrap_components as dbc\n",
    "import pandas as pd\n",
    "import matplotlib.pyplot as plt"
   ]
  },
  {
   "cell_type": "code",
   "execution_count": 18,
   "metadata": {},
   "outputs": [],
   "source": [
    "# Connect to Cassandra outside of callback function\n",
    "cluster = Cluster(['localhost'], port=9042)\n",
    "session = cluster.connect()\n",
    "session.set_keyspace('dmsb_tfm')"
   ]
  },
  {
   "cell_type": "code",
   "execution_count": 19,
   "metadata": {},
   "outputs": [
    {
     "data": {
      "text/html": [
       "<div>\n",
       "<style scoped>\n",
       "    .dataframe tbody tr th:only-of-type {\n",
       "        vertical-align: middle;\n",
       "    }\n",
       "\n",
       "    .dataframe tbody tr th {\n",
       "        vertical-align: top;\n",
       "    }\n",
       "\n",
       "    .dataframe thead th {\n",
       "        text-align: right;\n",
       "    }\n",
       "</style>\n",
       "<table border=\"1\" class=\"dataframe\">\n",
       "  <thead>\n",
       "    <tr style=\"text-align: right;\">\n",
       "      <th></th>\n",
       "      <th>symbol</th>\n",
       "      <th>start_time</th>\n",
       "      <th>close</th>\n",
       "      <th>high</th>\n",
       "      <th>low</th>\n",
       "      <th>open</th>\n",
       "    </tr>\n",
       "  </thead>\n",
       "  <tbody>\n",
       "    <tr>\n",
       "      <th>0</th>\n",
       "      <td>BTCEUR</td>\n",
       "      <td>2024-04-03 10:29:00</td>\n",
       "      <td>61744.682578</td>\n",
       "      <td>61757.883825</td>\n",
       "      <td>61726.564304</td>\n",
       "      <td>61749.645991</td>\n",
       "    </tr>\n",
       "    <tr>\n",
       "      <th>1</th>\n",
       "      <td>BTCEUR</td>\n",
       "      <td>2024-04-03 10:28:00</td>\n",
       "      <td>61751.018948</td>\n",
       "      <td>61773.038483</td>\n",
       "      <td>61744.161087</td>\n",
       "      <td>61763.718328</td>\n",
       "    </tr>\n",
       "    <tr>\n",
       "      <th>2</th>\n",
       "      <td>BTCEUR</td>\n",
       "      <td>2024-04-03 10:27:00</td>\n",
       "      <td>61786.295487</td>\n",
       "      <td>61821.479260</td>\n",
       "      <td>61788.079549</td>\n",
       "      <td>61786.328750</td>\n",
       "    </tr>\n",
       "    <tr>\n",
       "      <th>3</th>\n",
       "      <td>BTCEUR</td>\n",
       "      <td>2024-04-03 10:26:00</td>\n",
       "      <td>61790.841829</td>\n",
       "      <td>61790.462640</td>\n",
       "      <td>61765.982886</td>\n",
       "      <td>61779.050302</td>\n",
       "    </tr>\n",
       "    <tr>\n",
       "      <th>4</th>\n",
       "      <td>BTCEUR</td>\n",
       "      <td>2024-04-03 10:25:00</td>\n",
       "      <td>61788.955514</td>\n",
       "      <td>61791.835277</td>\n",
       "      <td>61769.837912</td>\n",
       "      <td>61772.294386</td>\n",
       "    </tr>\n",
       "  </tbody>\n",
       "</table>\n",
       "</div>"
      ],
      "text/plain": [
       "   symbol          start_time         close          high           low  \\\n",
       "0  BTCEUR 2024-04-03 10:29:00  61744.682578  61757.883825  61726.564304   \n",
       "1  BTCEUR 2024-04-03 10:28:00  61751.018948  61773.038483  61744.161087   \n",
       "2  BTCEUR 2024-04-03 10:27:00  61786.295487  61821.479260  61788.079549   \n",
       "3  BTCEUR 2024-04-03 10:26:00  61790.841829  61790.462640  61765.982886   \n",
       "4  BTCEUR 2024-04-03 10:25:00  61788.955514  61791.835277  61769.837912   \n",
       "\n",
       "           open  \n",
       "0  61749.645991  \n",
       "1  61763.718328  \n",
       "2  61786.328750  \n",
       "3  61779.050302  \n",
       "4  61772.294386  "
      ]
     },
     "execution_count": 19,
     "metadata": {},
     "output_type": "execute_result"
    }
   ],
   "source": [
    "query = f\"SELECT * FROM CandleSticks_pred\"\n",
    "result = session.execute(query)\n",
    "result = session.execute(query)\n",
    "rows = [row._asdict() for row in result]\n",
    "df_candlesticks_pred = pd.DataFrame(rows)\n",
    "\n",
    "df_candlesticks_pred.head()"
   ]
  },
  {
   "cell_type": "code",
   "execution_count": 20,
   "metadata": {},
   "outputs": [
    {
     "data": {
      "text/html": [
       "<div>\n",
       "<style scoped>\n",
       "    .dataframe tbody tr th:only-of-type {\n",
       "        vertical-align: middle;\n",
       "    }\n",
       "\n",
       "    .dataframe tbody tr th {\n",
       "        vertical-align: top;\n",
       "    }\n",
       "\n",
       "    .dataframe thead th {\n",
       "        text-align: right;\n",
       "    }\n",
       "</style>\n",
       "<table border=\"1\" class=\"dataframe\">\n",
       "  <thead>\n",
       "    <tr style=\"text-align: right;\">\n",
       "      <th></th>\n",
       "      <th>symbol</th>\n",
       "      <th>start_time</th>\n",
       "      <th>close</th>\n",
       "      <th>high</th>\n",
       "      <th>low</th>\n",
       "      <th>open</th>\n",
       "    </tr>\n",
       "  </thead>\n",
       "  <tbody>\n",
       "    <tr>\n",
       "      <th>0</th>\n",
       "      <td>BTCEUR</td>\n",
       "      <td>2024-04-03 10:44:00</td>\n",
       "      <td>61495.83</td>\n",
       "      <td>61520.34</td>\n",
       "      <td>61495.82</td>\n",
       "      <td>61508.04</td>\n",
       "    </tr>\n",
       "    <tr>\n",
       "      <th>5</th>\n",
       "      <td>BTCEUR</td>\n",
       "      <td>2024-04-03 10:43:00</td>\n",
       "      <td>61495.24</td>\n",
       "      <td>61522.83</td>\n",
       "      <td>61471.11</td>\n",
       "      <td>61471.11</td>\n",
       "    </tr>\n",
       "    <tr>\n",
       "      <th>8</th>\n",
       "      <td>BTCEUR</td>\n",
       "      <td>2024-04-03 10:29:00</td>\n",
       "      <td>61713.63</td>\n",
       "      <td>61729.21</td>\n",
       "      <td>61710.36</td>\n",
       "      <td>61729.20</td>\n",
       "    </tr>\n",
       "    <tr>\n",
       "      <th>12</th>\n",
       "      <td>BTCEUR</td>\n",
       "      <td>2024-04-03 10:28:00</td>\n",
       "      <td>61743.53</td>\n",
       "      <td>61756.99</td>\n",
       "      <td>61729.20</td>\n",
       "      <td>61747.97</td>\n",
       "    </tr>\n",
       "    <tr>\n",
       "      <th>28</th>\n",
       "      <td>BTCEUR</td>\n",
       "      <td>2024-04-03 10:27:00</td>\n",
       "      <td>61747.96</td>\n",
       "      <td>61778.43</td>\n",
       "      <td>61747.96</td>\n",
       "      <td>61763.82</td>\n",
       "    </tr>\n",
       "  </tbody>\n",
       "</table>\n",
       "</div>"
      ],
      "text/plain": [
       "    symbol          start_time     close      high       low      open\n",
       "0   BTCEUR 2024-04-03 10:44:00  61495.83  61520.34  61495.82  61508.04\n",
       "5   BTCEUR 2024-04-03 10:43:00  61495.24  61522.83  61471.11  61471.11\n",
       "8   BTCEUR 2024-04-03 10:29:00  61713.63  61729.21  61710.36  61729.20\n",
       "12  BTCEUR 2024-04-03 10:28:00  61743.53  61756.99  61729.20  61747.97\n",
       "28  BTCEUR 2024-04-03 10:27:00  61747.96  61778.43  61747.96  61763.82"
      ]
     },
     "execution_count": 20,
     "metadata": {},
     "output_type": "execute_result"
    }
   ],
   "source": [
    "query = \"SELECT * FROM candlesticks\"\n",
    "\n",
    "result = session.execute(query)\n",
    "rows = [row._asdict() for row in result]\n",
    "df_candlesticks = pd.DataFrame(rows)\n",
    "\n",
    "idx = df_candlesticks.groupby('start_time')['event_time'].idxmax()\n",
    "df_candlesticks = df_candlesticks.loc[idx]\n",
    "df_candlesticks = df_candlesticks.sort_values(by='start_time', ascending=False)\n",
    "\n",
    "desired_columns = ['symbol','start_time','close', 'high', 'low', 'open']\n",
    "\n",
    "df_candlesticks = df_candlesticks.loc[:, desired_columns]\n",
    "\n",
    "\n",
    "df_candlesticks.head()"
   ]
  },
  {
   "cell_type": "code",
   "execution_count": 24,
   "metadata": {},
   "outputs": [
    {
     "data": {
      "text/html": [
       "<div>\n",
       "<style scoped>\n",
       "    .dataframe tbody tr th:only-of-type {\n",
       "        vertical-align: middle;\n",
       "    }\n",
       "\n",
       "    .dataframe tbody tr th {\n",
       "        vertical-align: top;\n",
       "    }\n",
       "\n",
       "    .dataframe thead th {\n",
       "        text-align: right;\n",
       "    }\n",
       "</style>\n",
       "<table border=\"1\" class=\"dataframe\">\n",
       "  <thead>\n",
       "    <tr style=\"text-align: right;\">\n",
       "      <th></th>\n",
       "      <th>symbol</th>\n",
       "      <th>close</th>\n",
       "      <th>high</th>\n",
       "      <th>low</th>\n",
       "      <th>open</th>\n",
       "      <th>close_pred</th>\n",
       "      <th>high_pred</th>\n",
       "      <th>low_pred</th>\n",
       "      <th>open_pred</th>\n",
       "    </tr>\n",
       "    <tr>\n",
       "      <th>start_time</th>\n",
       "      <th></th>\n",
       "      <th></th>\n",
       "      <th></th>\n",
       "      <th></th>\n",
       "      <th></th>\n",
       "      <th></th>\n",
       "      <th></th>\n",
       "      <th></th>\n",
       "      <th></th>\n",
       "    </tr>\n",
       "  </thead>\n",
       "  <tbody>\n",
       "    <tr>\n",
       "      <th>08:56</th>\n",
       "      <td>BTCEUR</td>\n",
       "      <td>61900.09</td>\n",
       "      <td>61925.01</td>\n",
       "      <td>61877.98</td>\n",
       "      <td>61890.69</td>\n",
       "      <td>61869.812251</td>\n",
       "      <td>61883.669912</td>\n",
       "      <td>61860.078596</td>\n",
       "      <td>61858.570697</td>\n",
       "    </tr>\n",
       "    <tr>\n",
       "      <th>08:57</th>\n",
       "      <td>BTCEUR</td>\n",
       "      <td>61948.65</td>\n",
       "      <td>61974.26</td>\n",
       "      <td>61910.77</td>\n",
       "      <td>61910.77</td>\n",
       "      <td>61896.829646</td>\n",
       "      <td>61929.029895</td>\n",
       "      <td>61881.509583</td>\n",
       "      <td>61890.043844</td>\n",
       "    </tr>\n",
       "    <tr>\n",
       "      <th>08:58</th>\n",
       "      <td>BTCEUR</td>\n",
       "      <td>61933.98</td>\n",
       "      <td>61951.43</td>\n",
       "      <td>61927.85</td>\n",
       "      <td>61951.42</td>\n",
       "      <td>61945.914334</td>\n",
       "      <td>61978.166947</td>\n",
       "      <td>61913.705986</td>\n",
       "      <td>61909.768071</td>\n",
       "    </tr>\n",
       "    <tr>\n",
       "      <th>08:59</th>\n",
       "      <td>BTCEUR</td>\n",
       "      <td>61878.39</td>\n",
       "      <td>61934.37</td>\n",
       "      <td>61875.42</td>\n",
       "      <td>61934.37</td>\n",
       "      <td>61934.800014</td>\n",
       "      <td>61947.701677</td>\n",
       "      <td>61929.527484</td>\n",
       "      <td>61951.299016</td>\n",
       "    </tr>\n",
       "    <tr>\n",
       "      <th>09:00</th>\n",
       "      <td>BTCEUR</td>\n",
       "      <td>61847.97</td>\n",
       "      <td>61880.02</td>\n",
       "      <td>61818.41</td>\n",
       "      <td>61865.27</td>\n",
       "      <td>61879.733558</td>\n",
       "      <td>61930.392503</td>\n",
       "      <td>61867.553946</td>\n",
       "      <td>61931.905064</td>\n",
       "    </tr>\n",
       "    <tr>\n",
       "      <th>09:01</th>\n",
       "      <td>BTCEUR</td>\n",
       "      <td>61908.68</td>\n",
       "      <td>61943.39</td>\n",
       "      <td>61850.80</td>\n",
       "      <td>61850.80</td>\n",
       "      <td>61849.607293</td>\n",
       "      <td>61875.523118</td>\n",
       "      <td>61809.725446</td>\n",
       "      <td>61864.513669</td>\n",
       "    </tr>\n",
       "    <tr>\n",
       "      <th>09:02</th>\n",
       "      <td>BTCEUR</td>\n",
       "      <td>61929.98</td>\n",
       "      <td>61930.98</td>\n",
       "      <td>61912.48</td>\n",
       "      <td>61924.86</td>\n",
       "      <td>61905.833131</td>\n",
       "      <td>61949.724601</td>\n",
       "      <td>61855.331988</td>\n",
       "      <td>61853.506977</td>\n",
       "    </tr>\n",
       "    <tr>\n",
       "      <th>09:03</th>\n",
       "      <td>BTCEUR</td>\n",
       "      <td>61955.18</td>\n",
       "      <td>61968.12</td>\n",
       "      <td>61936.66</td>\n",
       "      <td>61936.66</td>\n",
       "      <td>61931.816325</td>\n",
       "      <td>61932.396761</td>\n",
       "      <td>61924.345664</td>\n",
       "      <td>61926.405456</td>\n",
       "    </tr>\n",
       "    <tr>\n",
       "      <th>09:04</th>\n",
       "      <td>BTCEUR</td>\n",
       "      <td>61960.68</td>\n",
       "      <td>61985.57</td>\n",
       "      <td>61960.68</td>\n",
       "      <td>61964.54</td>\n",
       "      <td>61950.974184</td>\n",
       "      <td>61968.894469</td>\n",
       "      <td>61939.269377</td>\n",
       "      <td>61934.789718</td>\n",
       "    </tr>\n",
       "    <tr>\n",
       "      <th>09:05</th>\n",
       "      <td>BTCEUR</td>\n",
       "      <td>61938.02</td>\n",
       "      <td>61961.50</td>\n",
       "      <td>61906.45</td>\n",
       "      <td>61961.50</td>\n",
       "      <td>61959.395392</td>\n",
       "      <td>61986.825683</td>\n",
       "      <td>61960.482896</td>\n",
       "      <td>61964.153106</td>\n",
       "    </tr>\n",
       "  </tbody>\n",
       "</table>\n",
       "</div>"
      ],
      "text/plain": [
       "            symbol     close      high       low      open    close_pred  \\\n",
       "start_time                                                                 \n",
       "08:56       BTCEUR  61900.09  61925.01  61877.98  61890.69  61869.812251   \n",
       "08:57       BTCEUR  61948.65  61974.26  61910.77  61910.77  61896.829646   \n",
       "08:58       BTCEUR  61933.98  61951.43  61927.85  61951.42  61945.914334   \n",
       "08:59       BTCEUR  61878.39  61934.37  61875.42  61934.37  61934.800014   \n",
       "09:00       BTCEUR  61847.97  61880.02  61818.41  61865.27  61879.733558   \n",
       "09:01       BTCEUR  61908.68  61943.39  61850.80  61850.80  61849.607293   \n",
       "09:02       BTCEUR  61929.98  61930.98  61912.48  61924.86  61905.833131   \n",
       "09:03       BTCEUR  61955.18  61968.12  61936.66  61936.66  61931.816325   \n",
       "09:04       BTCEUR  61960.68  61985.57  61960.68  61964.54  61950.974184   \n",
       "09:05       BTCEUR  61938.02  61961.50  61906.45  61961.50  61959.395392   \n",
       "\n",
       "               high_pred      low_pred     open_pred  \n",
       "start_time                                            \n",
       "08:56       61883.669912  61860.078596  61858.570697  \n",
       "08:57       61929.029895  61881.509583  61890.043844  \n",
       "08:58       61978.166947  61913.705986  61909.768071  \n",
       "08:59       61947.701677  61929.527484  61951.299016  \n",
       "09:00       61930.392503  61867.553946  61931.905064  \n",
       "09:01       61875.523118  61809.725446  61864.513669  \n",
       "09:02       61949.724601  61855.331988  61853.506977  \n",
       "09:03       61932.396761  61924.345664  61926.405456  \n",
       "09:04       61968.894469  61939.269377  61934.789718  \n",
       "09:05       61986.825683  61960.482896  61964.153106  "
      ]
     },
     "execution_count": 24,
     "metadata": {},
     "output_type": "execute_result"
    }
   ],
   "source": [
    "df_candlesticks_pred.rename(columns={'open': 'open_pred',\n",
    "                'high': 'high_pred',\n",
    "                        'low': 'low_pred',\n",
    "                        'close': 'close_pred'}, inplace=True)\n",
    "df = pd.merge(df_candlesticks, df_candlesticks_pred, on=['start_time','symbol'], how='inner')\n",
    "\n",
    "# Extract only the time component from the datetime values\n",
    "df[\"start_time\"] = df[\"start_time\"].dt.time\n",
    "df.set_index(\"start_time\", inplace=True)\n",
    "df.index = df.index.map(lambda x: x.strftime('%H:%M'))\n",
    "df= df.sort_values(by='start_time', ascending=True)\n",
    "df.head(10)"
   ]
  },
  {
   "cell_type": "code",
   "execution_count": 6,
   "metadata": {},
   "outputs": [
    {
     "name": "stdout",
     "output_type": "stream",
     "text": [
      "Summary Statistics for Actual Values:\n",
      "               open          high           low         close\n",
      "count     83.000000     83.000000     83.000000     83.000000\n",
      "mean   61833.387108  61849.468313  61813.248554  61831.445783\n",
      "std       59.690823     62.450252     56.194737     60.188051\n",
      "min    61729.200000  61729.210000  61710.360000  61713.630000\n",
      "25%    61786.025000  61800.455000  61767.665000  61790.810000\n",
      "50%    61824.650000  61837.070000  61800.020000  61818.430000\n",
      "75%    61876.855000  61896.970000  61858.055000  61876.540000\n",
      "max    61988.890000  61996.940000  61960.680000  61981.170000\n",
      "\n",
      "Summary Statistics for Predicted Values:\n",
      "          open_pred     high_pred      low_pred    close_pred\n",
      "count     83.000000     83.000000     83.000000     83.000000\n",
      "mean   61835.174137  61851.174075  61814.788991  61832.836216\n",
      "std       58.354829     61.666313     56.369845     57.923939\n",
      "min    61743.830644  61757.883825  61725.988499  61742.012092\n",
      "25%    61785.494685  61801.210223  61769.656466  61791.453257\n",
      "50%    61827.809714  61838.098074  61800.827410  61821.657989\n",
      "75%    61878.723551  61894.904940  61859.684200  61875.930152\n",
      "max    61994.101322  61997.801995  61960.482896  61964.040349\n"
     ]
    }
   ],
   "source": [
    "# Calculate summary statistics for actual values\n",
    "actual_summary = df[['open', 'high', 'low', 'close']].describe()\n",
    "\n",
    "# Calculate summary statistics for predicted values\n",
    "predicted_summary = df[['open_pred', 'high_pred', 'low_pred', 'close_pred']].describe()\n",
    "\n",
    "# Display the summary statistics\n",
    "print(\"Summary Statistics for Actual Values:\")\n",
    "print(actual_summary)\n",
    "print(\"\\nSummary Statistics for Predicted Values:\")\n",
    "print(predicted_summary)\n"
   ]
  },
  {
   "cell_type": "code",
   "execution_count": 26,
   "metadata": {},
   "outputs": [
    {
     "data": {
      "image/png": "[encoded data removed]",
      "text/plain": [
       "<Figure size 1200x800 with 4 Axes>"
      ]
     },
     "metadata": {},
     "output_type": "display_data"
    }
   ],
   "source": [
    "# Plot actual vs predicted values for close, high, low, and open prices\n",
    "plt.figure(figsize=(12, 8))\n",
    "\n",
    "# Plot close prices\n",
    "plt.subplot(2, 2, 4)\n",
    "plt.plot(df.index, df['close'], label='Real', color='blue')\n",
    "plt.plot(df.index, df['close_pred'], label='Predicción', linestyle='--', color='red')\n",
    "plt.xticks(df.index[::10], rotation=45)\n",
    "plt.ylabel('Precio (€)')\n",
    "plt.title('Precio de Cierre - Valor Real vs Predicción')\n",
    "plt.legend()\n",
    "\n",
    "# Plot high prices\n",
    "plt.subplot(2, 2, 2)\n",
    "plt.plot(df.index, df['high'], label='Real', color='blue')\n",
    "plt.plot(df.index, df['high_pred'], label='Predicción', linestyle='--', color='red')\n",
    "plt.xticks(df.index[::10], rotation=45)\n",
    "plt.ylabel('Precio (€)')\n",
    "plt.title('Precio Máximo - Valor Real vs Predicción')\n",
    "plt.legend()\n",
    "\n",
    "# Plot low prices\n",
    "plt.subplot(2, 2, 3)\n",
    "plt.plot(df.index, df['low'], label='Real', color='blue')\n",
    "plt.plot(df.index, df['low_pred'], label='Predicción', linestyle='--', color='red')\n",
    "plt.xticks(df.index[::10], rotation=45)\n",
    "plt.ylabel('Precio (€)')\n",
    "plt.title('Precio Mínimo - Valor Real vs Predicción')\n",
    "plt.legend()\n",
    "\n",
    "# Plot open prices\n",
    "plt.subplot(2, 2, 1)\n",
    "plt.plot(df.index, df['open'], label='Real', color='blue')\n",
    "plt.plot(df.index, df['open_pred'], label='Predicción', linestyle='--', color='red')\n",
    "plt.xticks(df.index[::10], rotation=45)\n",
    "plt.ylabel('Precio (€)')\n",
    "plt.title('Precio de Apertura - Valor Real vs Predicción')\n",
    "plt.legend()\n",
    "\n",
    "plt.tight_layout()\n",
    "plt.show()\n"
   ]
  },
  {
   "cell_type": "code",
   "execution_count": 172,
   "metadata": {},
   "outputs": [
    {
     "data": {
      "application/vnd.plotly.v1+json": {
       "config": {
        "plotlyServerURL": "https://plot.ly"
       },
       "data": [
        {
         "close": [
          61900.09,
          61948.65,
          61933.98,
          61878.39,
          61847.97,
          61908.68,
          61929.98,
          61955.18,
          61960.68,
          61938.02,
          61892.37,
          61929.87,
          61904.99,
          61875.39,
          61818.43,
          61858.08,
          61831.25,
          61796.59,
          61812.11,
          61830.93,
          61789.44,
          61805.1,
          61821.64,
          61842.61,
          61811.03,
          61808.14,
          61823.11,
          61802.11,
          61800.12,
          61806.59,
          61829.25,
          61803.96,
          61853.41,
          61841.12,
          61807.4,
          61796.72,
          61789.37,
          61813.83,
          61782.27,
          61740.01,
          61981.17,
          61886.22,
          61862.45,
          61847.55,
          61908.37,
          61899.25,
          61871.96,
          61896.73,
          61901.23,
          61895.42,
          61886.76,
          61854.83,
          61877.69,
          61871.13,
          61844.94,
          61840.25,
          61809.97,
          61821.66,
          61812.03,
          61832.12,
          61794.11,
          61766.57,
          61755.85,
          61749.02,
          61778.9,
          61772.63,
          61740.99,
          61759.62,
          61769.13,
          61793.5,
          61778.43,
          61748.14,
          61801.74,
          61790.81,
          61796.13,
          61752.01,
          61768.83,
          61790.81,
          61790.84,
          61786.23,
          61747.96,
          61743.53
         ],
         "high": [
          61925.01,
          61974.26,
          61951.43,
          61934.37,
          61880.02,
          61943.39,
          61930.98,
          61968.12,
          61985.57,
          61961.5,
          61917.58,
          61929.95,
          61928.42,
          61891.2,
          61848.86,
          61858.08,
          61840.35,
          61857.25,
          61820.26,
          61837.07,
          61835.63,
          61805.1,
          61821.64,
          61842.62,
          61849.44,
          61810.24,
          61823.11,
          61830.97,
          61802.11,
          61806.59,
          61836.11,
          61842.8,
          61853.41,
          61852.44,
          61838.49,
          61810.23,
          61789.38,
          61813.83,
          61811.07,
          61772.05,
          61981.17,
          61996.94,
          61898.65,
          61867.22,
          61908.37,
          61926.71,
          61906.75,
          61911.95,
          61908.42,
          61895.48,
          61898.46,
          61882.55,
          61887.24,
          61894.36,
          61871.16,
          61844.94,
          61837.74,
          61821.66,
          61827.08,
          61832.12,
          61830.91,
          61794.56,
          61782.28,
          61779.98,
          61778.9,
          61781.76,
          61778.99,
          61776.34,
          61769.13,
          61793.5,
          61785.82,
          61768.24,
          61801.74,
          61799.17,
          61796.13,
          61803.18,
          61790.67,
          61790.81,
          61790.84,
          61818.39,
          61778.43,
          61756.99
         ],
         "low": [
          61877.98,
          61910.77,
          61927.85,
          61875.42,
          61818.41,
          61850.8,
          61912.48,
          61936.66,
          61960.68,
          61906.45,
          61882.34,
          61892.23,
          61904.99,
          61851.83,
          61798.8,
          61804.27,
          61798.68,
          61796.59,
          61784.51,
          61812.1,
          61764.89,
          61782.83,
          61780.22,
          61817.3,
          61807.92,
          61795.91,
          61793.39,
          61800.16,
          61800.12,
          61789.38,
          61829.25,
          61803.96,
          61812.77,
          61823.02,
          61799.9,
          61796.72,
          61762.97,
          61789.37,
          61782.19,
          61740.01,
          61727.88,
          61886.22,
          61856.71,
          61847.55,
          61865.09,
          61891.74,
          61871.38,
          61861.64,
          61896.04,
          61866.06,
          61882.54,
          61854.83,
          61859.4,
          61871.06,
          61835.94,
          61824.32,
          61809.57,
          61800.02,
          61803.55,
          61786.85,
          61794.11,
          61766.57,
          61755.85,
          61742.4,
          61745.79,
          61772.62,
          61740.87,
          61759.62,
          61742.49,
          61754.62,
          61756.44,
          61748.14,
          61766.04,
          61768.9,
          61783.71,
          61752.01,
          61766.09,
          61768.76,
          61766.34,
          61786.23,
          61747.96,
          61729.2
         ],
         "name": "Actual",
         "open": [
          61890.69,
          61910.77,
          61951.42,
          61934.37,
          61865.27,
          61850.8,
          61924.86,
          61936.66,
          61964.54,
          61961.5,
          61906.11,
          61892.23,
          61928.42,
          61891.2,
          61848.86,
          61817.12,
          61833.79,
          61857.25,
          61785.04,
          61812.1,
          61835.63,
          61789.43,
          61799.2,
          61834.8,
          61843.68,
          61797.67,
          61818.05,
          61826.38,
          61802.11,
          61800.11,
          61831.32,
          61829.26,
          61812.77,
          61823.02,
          61838.49,
          61809.18,
          61789.38,
          61789.37,
          61811.07,
          61766.12,
          61740,
          61988.89,
          61898.65,
          61867.22,
          61865.09,
          61907.4,
          61902.23,
          61867.45,
          61902.23,
          61895.48,
          61895.41,
          61882.55,
          61859.4,
          61892.59,
          61871.16,
          61844.94,
          61837.74,
          61808.5,
          61827.08,
          61813.99,
          61824.65,
          61787.12,
          61769.41,
          61779.97,
          61748.93,
          61778.9,
          61772.63,
          61763.65,
          61753.49,
          61775.75,
          61785.81,
          61768.24,
          61766.04,
          61799.17,
          61783.71,
          61792.69,
          61766.09,
          61768.76,
          61780.85,
          61786.24,
          61763.82,
          61747.97
         ],
         "type": "candlestick",
         "x": [
          "08:56",
          "08:57",
          "08:58",
          "08:59",
          "09:00",
          "09:01",
          "09:02",
          "09:03",
          "09:04",
          "09:05",
          "09:06",
          "09:07",
          "09:08",
          "09:09",
          "09:10",
          "09:11",
          "09:12",
          "09:13",
          "09:14",
          "09:15",
          "09:16",
          "09:17",
          "09:18",
          "09:19",
          "09:20",
          "09:21",
          "09:22",
          "09:23",
          "09:24",
          "09:25",
          "09:26",
          "09:27",
          "09:28",
          "09:40",
          "09:41",
          "09:42",
          "09:43",
          "09:44",
          "09:45",
          "09:46",
          "09:47",
          "09:48",
          "09:49",
          "09:50",
          "09:51",
          "09:52",
          "09:53",
          "09:54",
          "09:55",
          "09:56",
          "09:57",
          "09:58",
          "09:59",
          "10:00",
          "10:01",
          "10:02",
          "10:03",
          "10:04",
          "10:05",
          "10:06",
          "10:07",
          "10:08",
          "10:09",
          "10:10",
          "10:11",
          "10:12",
          "10:13",
          "10:14",
          "10:15",
          "10:16",
          "10:17",
          "10:18",
          "10:19",
          "10:20",
          "10:21",
          "10:22",
          "10:23",
          "10:24",
          "10:25",
          "10:26",
          "10:27",
          "10:28"
         ]
        },
        {
         "close": [
          61869.81225060995,
          61896.82964631325,
          61945.91433371327,
          61934.80001392446,
          61879.73355810715,
          61849.60729327856,
          61905.83313134729,
          61931.81632451565,
          61950.974184167426,
          61959.395391973216,
          61938.64030768851,
          61894.869673998444,
          61927.2606868622,
          61908.87704551791,
          61875.25154037526,
          61822.51653887071,
          61855.60086459305,
          61836.0488768641,
          61797.081303668834,
          61811.798667310664,
          61831.28332680601,
          61791.810681756455,
          61803.103810400426,
          61822.50512124318,
          61841.188533459484,
          61812.71679091893,
          61807.28551699613,
          61823.120916684595,
          61803.04267888454,
          61800.49740938711,
          61806.307934234705,
          61828.6091203626,
          61805.4434229584,
          61805.4434229584,
          61837.516586369755,
          61809.802592206455,
          61796.47069531564,
          61790.12231331012,
          61813.062742611146,
          61784.50631093901,
          61742.01209225542,
          61964.04034902258,
          61894.17594426658,
          61859.38855977165,
          61847.28337756962,
          61903.711028456884,
          61900.3444585928,
          61872.91028438841,
          61894.044766398445,
          61901.142704315615,
          61896.62956629074,
          61886.72913833984,
          61857.18626030168,
          61876.60876384382,
          61871.88136492161,
          61847.62413174707,
          61840.42848180135,
          61812.19306974255,
          61821.65798877542,
          61812.91748215762,
          61831.32308465298,
          61796.87266584798,
          61769.34288764554,
          61756.82050031882,
          61750.617764661125,
          61777.158888128404,
          61773.024163533206,
          61743.54133402772,
          61758.006818168906,
          61768.40850405881,
          61791.959169106136,
          61778.9303705869,
          61750.581705916615,
          61797.46003801085,
          61791.095832382816,
          61796.167636958504,
          61754.67723673258,
          61768.21159571186,
          61788.955514126304,
          61790.84182853213,
          61786.295487422496,
          61751.01894757637
         ],
         "high": [
          61883.66991173444,
          61929.02989462497,
          61978.16694692225,
          61947.701677177494,
          61930.39250334705,
          61875.52311815942,
          61949.724601096204,
          61932.39676058457,
          61968.89446891221,
          61986.8256827859,
          61957.95635455926,
          61913.09151059139,
          61931.886482910995,
          61930.017302186854,
          61887.93586468763,
          61845.12678343775,
          61860.39524931754,
          61840.883207554594,
          61858.54763442653,
          61818.075686886514,
          61837.7604795523,
          61837.06784051839,
          61802.39539931181,
          61822.68696571055,
          61845.640887057794,
          61849.49021918423,
          61806.353090572185,
          61823.47826005374,
          61833.8757073202,
          61800.02504668943,
          61806.68715467589,
          61838.775673128475,
          61843.771432476045,
          61843.771432476045,
          61852.31218645276,
          61835.858445414255,
          61807.71789514924,
          61788.149122974355,
          61817.23375995307,
          61811.40196855543,
          61768.685416957596,
          61997.801994572656,
          61990.61041906934,
          61889.27738202031,
          61863.22483548928,
          61914.466440357246,
          61929.96184618075,
          61905.16010042296,
          61911.787265972715,
          61906.88716475327,
          61895.28421667864,
          61899.31148555034,
          61881.03808505345,
          61889.43942479781,
          61894.52566257514,
          61869.160235090865,
          61843.74068253632,
          61838.09807410456,
          61821.12943449469,
          61829.65624575593,
          61832.447183505225,
          61831.090323575445,
          61791.130659514034,
          61783.0659816632,
          61780.46144621084,
          61780.38050794795,
          61782.552388797965,
          61778.61210888821,
          61776.3270892461,
          61768.42711331805,
          61796.481231534104,
          61783.47857933575,
          61767.632622500314,
          61805.00586935156,
          61796.778514987134,
          61797.11443379639,
          61802.76586153424,
          61789.0558430796,
          61791.83527688643,
          61790.46264036783,
          61821.47925973105,
          61773.03848333987
         ],
         "low": [
          61860.07859630412,
          61881.50958274764,
          61913.70598622454,
          61929.52748395697,
          61867.55394596244,
          61809.72544550095,
          61855.33198826032,
          61924.34566351716,
          61939.26937743119,
          61960.48289617023,
          61899.24813467273,
          61877.44716922326,
          61895.53398488109,
          61908.1999369036,
          61844.88125931274,
          61790.43218402591,
          61806.90278901142,
          61800.984800845144,
          61796.48302557481,
          61783.243954457976,
          61815.60192159285,
          61760.301559332125,
          61783.99429025577,
          61782.54593620794,
          61821.82921933355,
          61806.83605592088,
          61792.962565527654,
          61792.77740728731,
          61801.91144984941,
          61800.416215335754,
          61787.932153532245,
          61834.08831596768,
          61800.82740969017,
          61800.82740969017,
          61824.35958562827,
          61796.1699369483,
          61796.46881712331,
          61758.657522203415,
          61793.270754010075,
          61782.6424150972,
          61734.55277191631,
          61725.988498823965,
          61907.48103917471,
          61854.502349895316,
          61842.63986964436,
          61863.02272928493,
          61895.567141703454,
          61868.64510940939,
          61859.28980429498,
          61900.46121053871,
          61862.96541766355,
          61883.8489157505,
          61851.84076814944,
          61860.28940143902,
          61872.77204902478,
          61832.49217791238,
          61822.6833241164,
          61808.529024077354,
          61799.94952363841,
          61804.618303311436,
          61785.542521480595,
          61795.05044104155,
          61764.04684202521,
          61755.01486585302,
          61741.719777246915,
          61746.941484147785,
          61775.992154818545,
          61737.61591106646,
          61761.04204314031,
          61741.11901037746,
          61755.84742185866,
          61756.91011552846,
          61747.16631967536,
          61767.63270249816,
          61769.47501949778,
          61784.89814145896,
          61748.357633566,
          61767.03952026116,
          61769.83791202772,
          61765.98288576055,
          61788.0795487073,
          61744.161087058135
         ],
         "name": "Predicted",
         "opacity": 0.5,
         "open": [
          61858.570696893425,
          61890.04384394627,
          61909.76807134392,
          61951.29901573375,
          61931.90506394111,
          61864.51366884401,
          61853.50697730346,
          61926.40545558515,
          61934.78971816983,
          61964.15310604862,
          61958.769337090445,
          61905.53861361563,
          61894.55474828589,
          61929.33510072437,
          61889.279953134945,
          61850.02149222268,
          61818.12228168731,
          61835.844619253905,
          61857.160558979274,
          61783.240729461904,
          61816.01447573633,
          61833.82611318434,
          61788.26723877854,
          61801.77826428399,
          61834.33183170121,
          61842.62231323896,
          61796.74860314385,
          61820.53167249895,
          61824.287203407126,
          61802.33638492379,
          61802.04058021633,
          61831.181100107126,
          61827.80971352071,
          61827.80971352071,
          61824.00044031544,
          61838.110584840106,
          61806.891789219546,
          61791.80405151142,
          61788.93620738506,
          61812.25445239525,
          61763.384137762696,
          61743.830643920905,
          61994.10132208403,
          61877.13501916271,
          61885.18329268439,
          61852.82621613809,
          61909.12068913143,
          61899.90313081019,
          61869.36409880769,
          61903.753300036464,
          61890.96090731914,
          61900.00494664306,
          61880.31208260681,
          61860.694343849646,
          61894.285428025105,
          61867.88308630635,
          61849.40094006849,
          61837.456158906774,
          61808.19962861867,
          61830.6787649372,
          61811.193884997876,
          61828.15235233838,
          61784.66062028785,
          61773.63092386529,
          61779.40177645579,
          61748.81913263003,
          61783.513415523106,
          61768.09591319903,
          61767.06903013935,
          61752.52572502434,
          61776.706769374076,
          61783.75546897622,
          61768.78328125048,
          61767.10603150046,
          61798.330828103084,
          61781.20174307745,
          61795.76663798488,
          61762.81817909168,
          61772.29438555678,
          61779.050302003605,
          61786.328749882516,
          61763.718328361196
         ],
         "type": "candlestick",
         "x": [
          "08:56",
          "08:57",
          "08:58",
          "08:59",
          "09:00",
          "09:01",
          "09:02",
          "09:03",
          "09:04",
          "09:05",
          "09:06",
          "09:07",
          "09:08",
          "09:09",
          "09:10",
          "09:11",
          "09:12",
          "09:13",
          "09:14",
          "09:15",
          "09:16",
          "09:17",
          "09:18",
          "09:19",
          "09:20",
          "09:21",
          "09:22",
          "09:23",
          "09:24",
          "09:25",
          "09:26",
          "09:27",
          "09:28",
          "09:40",
          "09:41",
          "09:42",
          "09:43",
          "09:44",
          "09:45",
          "09:46",
          "09:47",
          "09:48",
          "09:49",
          "09:50",
          "09:51",
          "09:52",
          "09:53",
          "09:54",
          "09:55",
          "09:56",
          "09:57",
          "09:58",
          "09:59",
          "10:00",
          "10:01",
          "10:02",
          "10:03",
          "10:04",
          "10:05",
          "10:06",
          "10:07",
          "10:08",
          "10:09",
          "10:10",
          "10:11",
          "10:12",
          "10:13",
          "10:14",
          "10:15",
          "10:16",
          "10:17",
          "10:18",
          "10:19",
          "10:20",
          "10:21",
          "10:22",
          "10:23",
          "10:24",
          "10:25",
          "10:26",
          "10:27",
          "10:28"
         ]
        }
       ],
       "layout": {
        "template": {
         "data": {
          "bar": [
           {
            "error_x": {
             "color": "#2a3f5f"
            },
            "error_y": {
             "color": "#2a3f5f"
            },
            "marker": {
             "line": {
              "color": "#E5ECF6",
              "width": 0.5
             },
             "pattern": {
              "fillmode": "overlay",
              "size": 10,
              "solidity": 0.2
             }
            },
            "type": "bar"
           }
          ],
          "barpolar": [
           {
            "marker": {
             "line": {
              "color": "#E5ECF6",
              "width": 0.5
             },
             "pattern": {
              "fillmode": "overlay",
              "size": 10,
              "solidity": 0.2
             }
            },
            "type": "barpolar"
           }
          ],
          "carpet": [
           {
            "aaxis": {
             "endlinecolor": "#2a3f5f",
             "gridcolor": "white",
             "linecolor": "white",
             "minorgridcolor": "white",
             "startlinecolor": "#2a3f5f"
            },
            "baxis": {
             "endlinecolor": "#2a3f5f",
             "gridcolor": "white",
             "linecolor": "white",
             "minorgridcolor": "white",
             "startlinecolor": "#2a3f5f"
            },
            "type": "carpet"
           }
          ],
          "choropleth": [
           {
            "colorbar": {
             "outlinewidth": 0,
             "ticks": ""
            },
            "type": "choropleth"
           }
          ],
          "contour": [
           {
            "colorbar": {
             "outlinewidth": 0,
             "ticks": ""
            },
            "colorscale": [
             [
              0,
              "#0d0887"
             ],
             [
              0.1111111111111111,
              "#46039f"
             ],
             [
              0.2222222222222222,
              "#7201a8"
             ],
             [
              0.3333333333333333,
              "#9c179e"
             ],
             [
              0.4444444444444444,
              "#bd3786"
             ],
             [
              0.5555555555555556,
              "#d8576b"
             ],
             [
              0.6666666666666666,
              "#ed7953"
             ],
             [
              0.7777777777777778,
              "#fb9f3a"
             ],
             [
              0.8888888888888888,
              "#fdca26"
             ],
             [
              1,
              "#f0f921"
             ]
            ],
            "type": "contour"
           }
          ],
          "contourcarpet": [
           {
            "colorbar": {
             "outlinewidth": 0,
             "ticks": ""
            },
            "type": "contourcarpet"
           }
          ],
          "heatmap": [
           {
            "colorbar": {
             "outlinewidth": 0,
             "ticks": ""
            },
            "colorscale": [
             [
              0,
              "#0d0887"
             ],
             [
              0.1111111111111111,
              "#46039f"
             ],
             [
              0.2222222222222222,
              "#7201a8"
             ],
             [
              0.3333333333333333,
              "#9c179e"
             ],
             [
              0.4444444444444444,
              "#bd3786"
             ],
             [
              0.5555555555555556,
              "#d8576b"
             ],
             [
              0.6666666666666666,
              "#ed7953"
             ],
             [
              0.7777777777777778,
              "#fb9f3a"
             ],
             [
              0.8888888888888888,
              "#fdca26"
             ],
             [
              1,
              "#f0f921"
             ]
            ],
            "type": "heatmap"
           }
          ],
          "heatmapgl": [
           {
            "colorbar": {
             "outlinewidth": 0,
             "ticks": ""
            },
            "colorscale": [
             [
              0,
              "#0d0887"
             ],
             [
              0.1111111111111111,
              "#46039f"
             ],
             [
              0.2222222222222222,
              "#7201a8"
             ],
             [
              0.3333333333333333,
              "#9c179e"
             ],
             [
              0.4444444444444444,
              "#bd3786"
             ],
             [
              0.5555555555555556,
              "#d8576b"
             ],
             [
              0.6666666666666666,
              "#ed7953"
             ],
             [
              0.7777777777777778,
              "#fb9f3a"
             ],
             [
              0.8888888888888888,
              "#fdca26"
             ],
             [
              1,
              "#f0f921"
             ]
            ],
            "type": "heatmapgl"
           }
          ],
          "histogram": [
           {
            "marker": {
             "pattern": {
              "fillmode": "overlay",
              "size": 10,
              "solidity": 0.2
             }
            },
            "type": "histogram"
           }
          ],
          "histogram2d": [
           {
            "colorbar": {
             "outlinewidth": 0,
             "ticks": ""
            },
            "colorscale": [
             [
              0,
              "#0d0887"
             ],
             [
              0.1111111111111111,
              "#46039f"
             ],
             [
              0.2222222222222222,
              "#7201a8"
             ],
             [
              0.3333333333333333,
              "#9c179e"
             ],
             [
              0.4444444444444444,
              "#bd3786"
             ],
             [
              0.5555555555555556,
              "#d8576b"
             ],
             [
              0.6666666666666666,
              "#ed7953"
             ],
             [
              0.7777777777777778,
              "#fb9f3a"
             ],
             [
              0.8888888888888888,
              "#fdca26"
             ],
             [
              1,
              "#f0f921"
             ]
            ],
            "type": "histogram2d"
           }
          ],
          "histogram2dcontour": [
           {
            "colorbar": {
             "outlinewidth": 0,
             "ticks": ""
            },
            "colorscale": [
             [
              0,
              "#0d0887"
             ],
             [
              0.1111111111111111,
              "#46039f"
             ],
             [
              0.2222222222222222,
              "#7201a8"
             ],
             [
              0.3333333333333333,
              "#9c179e"
             ],
             [
              0.4444444444444444,
              "#bd3786"
             ],
             [
              0.5555555555555556,
              "#d8576b"
             ],
             [
              0.6666666666666666,
              "#ed7953"
             ],
             [
              0.7777777777777778,
              "#fb9f3a"
             ],
             [
              0.8888888888888888,
              "#fdca26"
             ],
             [
              1,
              "#f0f921"
             ]
            ],
            "type": "histogram2dcontour"
           }
          ],
          "mesh3d": [
           {
            "colorbar": {
             "outlinewidth": 0,
             "ticks": ""
            },
            "type": "mesh3d"
           }
          ],
          "parcoords": [
           {
            "line": {
             "colorbar": {
              "outlinewidth": 0,
              "ticks": ""
             }
            },
            "type": "parcoords"
           }
          ],
          "pie": [
           {
            "automargin": true,
            "type": "pie"
           }
          ],
          "scatter": [
           {
            "fillpattern": {
             "fillmode": "overlay",
             "size": 10,
             "solidity": 0.2
            },
            "type": "scatter"
           }
          ],
          "scatter3d": [
           {
            "line": {
             "colorbar": {
              "outlinewidth": 0,
              "ticks": ""
             }
            },
            "marker": {
             "colorbar": {
              "outlinewidth": 0,
              "ticks": ""
             }
            },
            "type": "scatter3d"
           }
          ],
          "scattercarpet": [
           {
            "marker": {
             "colorbar": {
              "outlinewidth": 0,
              "ticks": ""
             }
            },
            "type": "scattercarpet"
           }
          ],
          "scattergeo": [
           {
            "marker": {
             "colorbar": {
              "outlinewidth": 0,
              "ticks": ""
             }
            },
            "type": "scattergeo"
           }
          ],
          "scattergl": [
           {
            "marker": {
             "colorbar": {
              "outlinewidth": 0,
              "ticks": ""
             }
            },
            "type": "scattergl"
           }
          ],
          "scattermapbox": [
           {
            "marker": {
             "colorbar": {
              "outlinewidth": 0,
              "ticks": ""
             }
            },
            "type": "scattermapbox"
           }
          ],
          "scatterpolar": [
           {
            "marker": {
             "colorbar": {
              "outlinewidth": 0,
              "ticks": ""
             }
            },
            "type": "scatterpolar"
           }
          ],
          "scatterpolargl": [
           {
            "marker": {
             "colorbar": {
              "outlinewidth": 0,
              "ticks": ""
             }
            },
            "type": "scatterpolargl"
           }
          ],
          "scatterternary": [
           {
            "marker": {
             "colorbar": {
              "outlinewidth": 0,
              "ticks": ""
             }
            },
            "type": "scatterternary"
           }
          ],
          "surface": [
           {
            "colorbar": {
             "outlinewidth": 0,
             "ticks": ""
            },
            "colorscale": [
             [
              0,
              "#0d0887"
             ],
             [
              0.1111111111111111,
              "#46039f"
             ],
             [
              0.2222222222222222,
              "#7201a8"
             ],
             [
              0.3333333333333333,
              "#9c179e"
             ],
             [
              0.4444444444444444,
              "#bd3786"
             ],
             [
              0.5555555555555556,
              "#d8576b"
             ],
             [
              0.6666666666666666,
              "#ed7953"
             ],
             [
              0.7777777777777778,
              "#fb9f3a"
             ],
             [
              0.8888888888888888,
              "#fdca26"
             ],
             [
              1,
              "#f0f921"
             ]
            ],
            "type": "surface"
           }
          ],
          "table": [
           {
            "cells": {
             "fill": {
              "color": "#EBF0F8"
             },
             "line": {
              "color": "white"
             }
            },
            "header": {
             "fill": {
              "color": "#C8D4E3"
             },
             "line": {
              "color": "white"
             }
            },
            "type": "table"
           }
          ]
         },
         "layout": {
          "annotationdefaults": {
           "arrowcolor": "#2a3f5f",
           "arrowhead": 0,
           "arrowwidth": 1
          },
          "autotypenumbers": "strict",
          "coloraxis": {
           "colorbar": {
            "outlinewidth": 0,
            "ticks": ""
           }
          },
          "colorscale": {
           "diverging": [
            [
             0,
             "#8e0152"
            ],
            [
             0.1,
             "#c51b7d"
            ],
            [
             0.2,
             "#de77ae"
            ],
            [
             0.3,
             "#f1b6da"
            ],
            [
             0.4,
             "#fde0ef"
            ],
            [
             0.5,
             "#f7f7f7"
            ],
            [
             0.6,
             "#e6f5d0"
            ],
            [
             0.7,
             "#b8e186"
            ],
            [
             0.8,
             "#7fbc41"
            ],
            [
             0.9,
             "#4d9221"
            ],
            [
             1,
             "#276419"
            ]
           ],
           "sequential": [
            [
             0,
             "#0d0887"
            ],
            [
             0.1111111111111111,
             "#46039f"
            ],
            [
             0.2222222222222222,
             "#7201a8"
            ],
            [
             0.3333333333333333,
             "#9c179e"
            ],
            [
             0.4444444444444444,
             "#bd3786"
            ],
            [
             0.5555555555555556,
             "#d8576b"
            ],
            [
             0.6666666666666666,
             "#ed7953"
            ],
            [
             0.7777777777777778,
             "#fb9f3a"
            ],
            [
             0.8888888888888888,
             "#fdca26"
            ],
            [
             1,
             "#f0f921"
            ]
           ],
           "sequentialminus": [
            [
             0,
             "#0d0887"
            ],
            [
             0.1111111111111111,
             "#46039f"
            ],
            [
             0.2222222222222222,
             "#7201a8"
            ],
            [
             0.3333333333333333,
             "#9c179e"
            ],
            [
             0.4444444444444444,
             "#bd3786"
            ],
            [
             0.5555555555555556,
             "#d8576b"
            ],
            [
             0.6666666666666666,
             "#ed7953"
            ],
            [
             0.7777777777777778,
             "#fb9f3a"
            ],
            [
             0.8888888888888888,
             "#fdca26"
            ],
            [
             1,
             "#f0f921"
            ]
           ]
          },
          "colorway": [
           "#636efa",
           "#EF553B",
           "#00cc96",
           "#ab63fa",
           "#FFA15A",
           "#19d3f3",
           "#FF6692",
           "#B6E880",
           "#FF97FF",
           "#FECB52"
          ],
          "font": {
           "color": "#2a3f5f"
          },
          "geo": {
           "bgcolor": "white",
           "lakecolor": "white",
           "landcolor": "#E5ECF6",
           "showlakes": true,
           "showland": true,
           "subunitcolor": "white"
          },
          "hoverlabel": {
           "align": "left"
          },
          "hovermode": "closest",
          "mapbox": {
           "style": "light"
          },
          "paper_bgcolor": "white",
          "plot_bgcolor": "#E5ECF6",
          "polar": {
           "angularaxis": {
            "gridcolor": "white",
            "linecolor": "white",
            "ticks": ""
           },
           "bgcolor": "#E5ECF6",
           "radialaxis": {
            "gridcolor": "white",
            "linecolor": "white",
            "ticks": ""
           }
          },
          "scene": {
           "xaxis": {
            "backgroundcolor": "#E5ECF6",
            "gridcolor": "white",
            "gridwidth": 2,
            "linecolor": "white",
            "showbackground": true,
            "ticks": "",
            "zerolinecolor": "white"
           },
           "yaxis": {
            "backgroundcolor": "#E5ECF6",
            "gridcolor": "white",
            "gridwidth": 2,
            "linecolor": "white",
            "showbackground": true,
            "ticks": "",
            "zerolinecolor": "white"
           },
           "zaxis": {
            "backgroundcolor": "#E5ECF6",
            "gridcolor": "white",
            "gridwidth": 2,
            "linecolor": "white",
            "showbackground": true,
            "ticks": "",
            "zerolinecolor": "white"
           }
          },
          "shapedefaults": {
           "line": {
            "color": "#2a3f5f"
           }
          },
          "ternary": {
           "aaxis": {
            "gridcolor": "white",
            "linecolor": "white",
            "ticks": ""
           },
           "baxis": {
            "gridcolor": "white",
            "linecolor": "white",
            "ticks": ""
           },
           "bgcolor": "#E5ECF6",
           "caxis": {
            "gridcolor": "white",
            "linecolor": "white",
            "ticks": ""
           }
          },
          "title": {
           "x": 0.05
          },
          "xaxis": {
           "automargin": true,
           "gridcolor": "white",
           "linecolor": "white",
           "ticks": "",
           "title": {
            "standoff": 15
           },
           "zerolinecolor": "white",
           "zerolinewidth": 2
          },
          "yaxis": {
           "automargin": true,
           "gridcolor": "white",
           "linecolor": "white",
           "ticks": "",
           "title": {
            "standoff": 15
           },
           "zerolinecolor": "white",
           "zerolinewidth": 2
          }
         }
        },
        "title": {
         "text": "Actual vs Predicted Candlestick Chart"
        },
        "xaxis": {
         "title": {
          "text": "Time"
         }
        },
        "yaxis": {
         "title": {
          "text": "Price"
         }
        }
       }
      }
     },
     "metadata": {},
     "output_type": "display_data"
    }
   ],
   "source": [
    "import plotly.graph_objects as go\n",
    "\n",
    "# Create candlestick chart for actual data\n",
    "actual_candlestick = go.Candlestick(x=df.index,\n",
    "                                    open=df['open'],\n",
    "                                    high=df['high'],\n",
    "                                    low=df['low'],\n",
    "                                    close=df['close'],\n",
    "                                    name='Actual')\n",
    "\n",
    "# Create candlestick chart for predicted data\n",
    "predicted_candlestick = go.Candlestick(x=df.index,\n",
    "                                       open=df['open_pred'],\n",
    "                                       high=df['high_pred'],\n",
    "                                       low=df['low_pred'],\n",
    "                                       close=df['close_pred'],\n",
    "                                       name='Predicted',\n",
    "                                       opacity=0.5)\n",
    "\n",
    "# Create layout for the plot\n",
    "layout = go.Layout(title='Actual vs Predicted Candlestick Chart',\n",
    "                   xaxis=dict(title='Time'),\n",
    "                   yaxis=dict(title='Price'))\n",
    "\n",
    "# Combine actual and predicted candlestick charts into a single figure\n",
    "fig = go.Figure(data=[actual_candlestick, predicted_candlestick], layout=layout)\n",
    "\n",
    "# Show the plot\n",
    "fig.show()\n"
   ]
  },
  {
   "cell_type": "code",
   "execution_count": 198,
   "metadata": {},
   "outputs": [
    {
     "name": "stdout",
     "output_type": "stream",
     "text": [
      "MAE:\n",
      "Open: 26.11534951347565\n",
      "High: 21.35046467579395\n",
      "Low: 22.58448570299728\n",
      "Close: 26.957424106309812\n",
      "\n",
      "MSE:\n",
      "Open: 1575.3176947368463\n",
      "High: 1180.1383927134002\n",
      "Low: 970.2347005357856\n",
      "Close: 1534.8711143552339\n",
      "\n",
      "RMSE:\n",
      "Open: 39.690272041607955\n",
      "High: 34.35314239939922\n",
      "Low: 31.14859066692722\n",
      "Close: 39.17743118627399\n",
      "\n",
      "MAPE:\n",
      "Open: 0.04221768845097677\n",
      "High: 0.03450500459039582\n",
      "Low: 0.036527519876451836\n",
      "Close: 0.04358304624235262\n"
     ]
    }
   ],
   "source": [
    "from sklearn.metrics import mean_absolute_error, mean_squared_error\n",
    "import numpy as np\n",
    "\n",
    "# Función para calcular el MAPE\n",
    "def mean_absolute_percentage_error(y_true, y_pred):\n",
    "    return np.mean(np.abs((y_true - y_pred) / y_true)) * 100\n",
    "\n",
    "\n",
    "# Calcular MAE para cada variable\n",
    "mae_open = mean_absolute_error(actual_candlestick['open'], predicted_candlestick['open'])\n",
    "mae_high = mean_absolute_error(actual_candlestick['high'], predicted_candlestick['high'])\n",
    "mae_low = mean_absolute_error(actual_candlestick['low'], predicted_candlestick['low'])\n",
    "mae_close = mean_absolute_error(actual_candlestick['close'], predicted_candlestick['close'])\n",
    "\n",
    "# Calcular MSE para cada variable\n",
    "mse_open = mean_squared_error(actual_candlestick['open'], predicted_candlestick['open'])\n",
    "mse_high = mean_squared_error(actual_candlestick['high'], predicted_candlestick['high'])\n",
    "mse_low = mean_squared_error(actual_candlestick['low'], predicted_candlestick['low'])\n",
    "mse_close = mean_squared_error(actual_candlestick['close'], predicted_candlestick['close'])\n",
    "\n",
    "# Calcular RMSE para cada variable\n",
    "rmse_open = np.sqrt(mse_open)\n",
    "rmse_high = np.sqrt(mse_high)\n",
    "rmse_low = np.sqrt(mse_low)\n",
    "rmse_close = np.sqrt(mse_close)\n",
    "\n",
    "# Calcular MAPE para cada variable\n",
    "mape_open = mean_absolute_percentage_error(actual_candlestick['open'], predicted_candlestick['open'])\n",
    "mape_high = mean_absolute_percentage_error(actual_candlestick['high'], predicted_candlestick['high'])\n",
    "mape_low = mean_absolute_percentage_error(actual_candlestick['low'], predicted_candlestick['low'])\n",
    "mape_close = mean_absolute_percentage_error(actual_candlestick['close'], predicted_candlestick['close'])\n",
    "\n",
    "# Imprimir resultados\n",
    "print(\"MAE:\")\n",
    "print(\"Open:\", mae_open)\n",
    "print(\"High:\", mae_high)\n",
    "print(\"Low:\", mae_low)\n",
    "print(\"Close:\", mae_close)\n",
    "print(\"\\nMSE:\")\n",
    "print(\"Open:\", mse_open)\n",
    "print(\"High:\", mse_high)\n",
    "print(\"Low:\", mse_low)\n",
    "print(\"Close:\", mse_close)\n",
    "print(\"\\nRMSE:\")\n",
    "print(\"Open:\", rmse_open)\n",
    "print(\"High:\", rmse_high)\n",
    "print(\"Low:\", rmse_low)\n",
    "print(\"Close:\", rmse_close)\n",
    "print(\"\\nMAPE:\")\n",
    "print(\"Open:\", mape_open)\n",
    "print(\"High:\", mape_high)\n",
    "print(\"Low:\", mape_low)\n",
    "print(\"Close:\", mape_close)\n"
   ]
  },
  {
   "cell_type": "code",
   "execution_count": 201,
   "metadata": {},
   "outputs": [
    {
     "name": "stdout",
     "output_type": "stream",
     "text": [
      "+----------+--------------------+--------------------+--------------------+----------------------+\n",
      "| Variable |        MAE         |        MSE         |        RMSE        |         MAPE         |\n",
      "+----------+--------------------+--------------------+--------------------+----------------------+\n",
      "|   Open   | 26.11534951347565  | 1575.3176947368463 | 39.690272041607955 | 0.04221768845097677  |\n",
      "|   High   | 21.35046467579395  | 1180.1383927134002 | 34.35314239939922  | 0.03450500459039582  |\n",
      "|   Low    | 22.58448570299728  | 970.2347005357856  | 31.14859066692722  | 0.036527519876451836 |\n",
      "|  Close   | 26.957424106309812 | 1534.8711143552339 | 39.17743118627399  | 0.04358304624235262  |\n",
      "+----------+--------------------+--------------------+--------------------+----------------------+\n"
     ]
    }
   ],
   "source": [
    "from tabulate import tabulate\n",
    "\n",
    "# Calcular los valores de MAE, MSE, RMSE y MAPE\n",
    "mae_values = [mae_open, mae_high, mae_low, mae_close]\n",
    "mse_values = [mse_open, mse_high, mse_low, mse_close]\n",
    "rmse_values = [rmse_open, rmse_high, rmse_low, rmse_close]\n",
    "mape_values = [mape_open, mape_high, mape_low, mape_close]\n",
    "\n",
    "# Crear una lista de listas con los valores\n",
    "table_data = [\n",
    "    ['Variable', 'MAE', 'MSE', 'RMSE', 'MAPE'],\n",
    "    ['Open', mae_open, mse_open, rmse_open, mape_open],\n",
    "    ['High', mae_high, mse_high, rmse_high, mape_high],\n",
    "    ['Low', mae_low, mse_low, rmse_low, mape_low],\n",
    "    ['Close', mae_close, mse_close, rmse_close, mape_close]\n",
    "]\n",
    "\n",
    "# Imprimir la tabla\n",
    "print(tabulate(table_data, headers='firstrow', tablefmt='pretty'))\n"
   ]
  }
 ],
 "metadata": {
  "kernelspec": {
   "display_name": "Python 3",
   "language": "python",
   "name": "python3"
  },
  "language_info": {
   "codemirror_mode": {
    "name": "ipython",
    "version": 3
   },
   "file_extension": ".py",
   "mimetype": "text/x-python",
   "name": "python",
   "nbconvert_exporter": "python",
   "pygments_lexer": "ipython3",
   "version": "3.10.6"
  }
 },
 "nbformat": 4,
 "nbformat_minor": 2
}
