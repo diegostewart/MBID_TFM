{
 "cells": [
  {
   "cell_type": "code",
   "execution_count": 1,
   "metadata": {},
   "outputs": [],
   "source": [
    "from kafka import KafkaConsumer\n",
    "from cassandra.cluster import Cluster\n",
    "from datetime import datetime\n",
    "import json\n",
    "\n",
    "#################################################################################################\n",
    "# OPEN 2 GIT BASH CONSOLES AND RUN ()\n",
    "# context/kafka/bin/zookeeper-server-start.sh context/kafka/config/zookeeper.properties\n",
    "# context/kafka/bin/kafka-server-start.sh context/kafka/config/server.properties\n",
    "#################################################################################################\n",
    "\n",
    "# Set up Kafka consumer\n",
    "consumer = KafkaConsumer('candlestickStream',\n",
    "                        group_id='btcEuro',\n",
    "                        bootstrap_servers='localhost:9092',\n",
    "                        enable_auto_commit=True,  # Enable automatic offset commits\n",
    "                        auto_commit_interval_ms=5000)\n",
    "\n",
    "cluster = Cluster(['localhost'], port=9042)\n",
    "session = cluster.connect()\n",
    "session.set_keyspace('dmsb_tfm')\n",
    "\n",
    "try:\n",
    "    # Continuously poll for records and process them\n",
    "    for message in consumer:\n",
    "        # Decode and deserialize the message value\n",
    "        value = json.loads(message.value.decode('utf-8'))\n",
    "        \n",
    "        # print(f\"Received message: value={value}\")\n",
    "        \n",
    "        # Check if the start_time exists in the table\n",
    "        query = f\"SELECT count(*) FROM CandleSticks_pred WHERE START_TIME = '{value['start_time']}' ALLOW FILTERING\"\n",
    "        result = session.execute(query).one()[0]\n",
    "        \n",
    "        if result == 0: \n",
    "            insert_query = session.prepare(\"\"\"\n",
    "            INSERT INTO CandleSticks_pred (\n",
    "                SYMBOL,\n",
    "                START_TIME,\n",
    "                OPEN,\n",
    "                HIGH,\n",
    "                LOW,\n",
    "                CLOSE\n",
    "            )\n",
    "            VALUES (?, ?, ?, ?, ?, ?)\n",
    "        \"\"\")\n",
    "            # Execute the insertion query\n",
    "            # data = [value['start_time'],value['open'],value['high'],value['low'],value['close']]\n",
    "            session.execute(insert_query, [value['symbol'],datetime.strptime(value['start_time'], '%Y-%m-%d %H:%M:%S'),value['open'],value['high'],value['low'],value['close']])\n",
    "            # print(f\"New row inserted for time: {value['start_time']}\")\n",
    "            # print(data)\n",
    "\n",
    "except KeyboardInterrupt:\n",
    "    # Close the consumer connection if the program is terminated by a keyboard interrupt (Ctrl+C)\n",
    "    consumer.close()\n",
    "    print('Consumer connection closed')"
   ]
  }
 ],
 "metadata": {
  "kernelspec": {
   "display_name": "Python 3",
   "language": "python",
   "name": "python3"
  },
  "language_info": {
   "codemirror_mode": {
    "name": "ipython",
    "version": 3
   },
   "file_extension": ".py",
   "mimetype": "text/x-python",
   "name": "python",
   "nbconvert_exporter": "python",
   "pygments_lexer": "ipython3",
   "version": "3.10.6"
  }
 },
 "nbformat": 4,
 "nbformat_minor": 2
}
