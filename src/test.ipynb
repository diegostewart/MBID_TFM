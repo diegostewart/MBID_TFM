{
 "cells": [
  {
   "cell_type": "code",
   "execution_count": 2,
   "metadata": {},
   "outputs": [],
   "source": [
    "from cassandra.cluster import Cluster\n",
    "import pandas as pd\n"
   ]
  },
  {
   "cell_type": "code",
   "execution_count": 11,
   "metadata": {},
   "outputs": [
    {
     "name": "stdout",
     "output_type": "stream",
     "text": [
      "30\n"
     ]
    }
   ],
   "source": [
    "\n",
    "# Connect to Cassandra outside of callback function\n",
    "cluster = Cluster(['localhost'], port=9042)\n",
    "session = cluster.connect()\n",
    "session.set_keyspace('dmsb_tfm')\n",
    "\n",
    "\n",
    "query = \"SELECT * FROM candlesticks LIMIT 300\"\n",
    "\n",
    "result = session.execute(query)\n",
    "rows = [row._asdict() for row in result]\n",
    "df = pd.DataFrame(rows)\n",
    "\n",
    "# We filter only to have the newest data for each time\n",
    "idx = df.groupby('start_time')['event_time'].idxmax()\n",
    "df = df.loc[idx]\n",
    "df = df.sort_values(by='start_time', ascending=False)\n",
    "print(len(df))"
   ]
  },
  {
   "cell_type": "code",
   "execution_count": 14,
   "metadata": {},
   "outputs": [
    {
     "data": {
      "text/html": [
       "<div>\n",
       "<style scoped>\n",
       "    .dataframe tbody tr th:only-of-type {\n",
       "        vertical-align: middle;\n",
       "    }\n",
       "\n",
       "    .dataframe tbody tr th {\n",
       "        vertical-align: top;\n",
       "    }\n",
       "\n",
       "    .dataframe thead th {\n",
       "        text-align: right;\n",
       "    }\n",
       "</style>\n",
       "<table border=\"1\" class=\"dataframe\">\n",
       "  <thead>\n",
       "    <tr style=\"text-align: right;\">\n",
       "      <th></th>\n",
       "      <th>start_time</th>\n",
       "      <th>low</th>\n",
       "    </tr>\n",
       "  </thead>\n",
       "  <tbody>\n",
       "    <tr>\n",
       "      <th>0</th>\n",
       "      <td>2024-02-14 13:30:00</td>\n",
       "      <td>48276.99</td>\n",
       "    </tr>\n",
       "    <tr>\n",
       "      <th>3</th>\n",
       "      <td>2024-02-14 13:29:00</td>\n",
       "      <td>48246.19</td>\n",
       "    </tr>\n",
       "    <tr>\n",
       "      <th>10</th>\n",
       "      <td>2024-02-14 13:28:00</td>\n",
       "      <td>48249.25</td>\n",
       "    </tr>\n",
       "    <tr>\n",
       "      <th>19</th>\n",
       "      <td>2024-02-14 13:27:00</td>\n",
       "      <td>48251.03</td>\n",
       "    </tr>\n",
       "    <tr>\n",
       "      <th>24</th>\n",
       "      <td>2024-02-14 13:26:00</td>\n",
       "      <td>48232.51</td>\n",
       "    </tr>\n",
       "  </tbody>\n",
       "</table>\n",
       "</div>"
      ],
      "text/plain": [
       "            start_time       low\n",
       "0  2024-02-14 13:30:00  48276.99\n",
       "3  2024-02-14 13:29:00  48246.19\n",
       "10 2024-02-14 13:28:00  48249.25\n",
       "19 2024-02-14 13:27:00  48251.03\n",
       "24 2024-02-14 13:26:00  48232.51"
      ]
     },
     "execution_count": 14,
     "metadata": {},
     "output_type": "execute_result"
    }
   ],
   "source": [
    "df_kline_closed = df[df['kline_closed'] == True]\n",
    "\n",
    "df_close = df_kline_closed[['start_time', 'close']]\n",
    "df_open = df_kline_closed[['start_time', 'open']]\n",
    "df_high = df_kline_closed[['start_time', 'high']]\n",
    "df_low = df_kline_closed[['start_time', 'low']]"
   ]
  },
  {
   "cell_type": "code",
   "execution_count": 25,
   "metadata": {},
   "outputs": [
    {
     "data": {
      "text/plain": [
       "[48276.99,\n",
       " 48255.5,\n",
       " 48264.26,\n",
       " 48251.03,\n",
       " 48262.75,\n",
       " 48270.99,\n",
       " 48218.66,\n",
       " 48182.44,\n",
       " 48200.0,\n",
       " 48145.02,\n",
       " 48145.78,\n",
       " 48159.99,\n",
       " 48175.83,\n",
       " 48159.06,\n",
       " 48172.85,\n",
       " 48160.0,\n",
       " 48116.39,\n",
       " 48130.11,\n",
       " 44630.74,\n",
       " 44631.89,\n",
       " 44617.77,\n",
       " 44651.56,\n",
       " 44665.56,\n",
       " 44674.07,\n",
       " 44681.94,\n",
       " 44673.73,\n",
       " 44674.71,\n",
       " 44661.85,\n",
       " 44666.23,\n",
       " 44657.79]"
      ]
     },
     "execution_count": 25,
     "metadata": {},
     "output_type": "execute_result"
    }
   ],
   "source": [
    "df = (df_close['close']).tolist()\n",
    "df"
   ]
  },
  {
   "cell_type": "code",
   "execution_count": 39,
   "metadata": {},
   "outputs": [
    {
     "data": {
      "text/plain": [
       "array([44677.69181336])"
      ]
     },
     "execution_count": 39,
     "metadata": {},
     "output_type": "execute_result"
    }
   ],
   "source": [
    "from statsmodels.tsa.arima.model import ARIMA\n",
    "\n",
    "\n",
    "close_model = ARIMA(df_close['close'].tolist(), order = (4,1,0))\n",
    "open_model = ARIMA(df_open['open'].tolist(), order = (4,1,0))\n",
    "high_model = ARIMA(df_high['high'].tolist(), order = (4,1,0))\n",
    "low_model = ARIMA(df_low['low'].tolist(), order = (4,1,0))\n",
    "\n",
    "close_model_fit = close_model.fit()\n",
    "open_model_fit = open_model.fit()\n",
    "high_model_fit = high_model.fit()\n",
    "low_model_fit = low_model.fit()\n",
    "\n",
    "close_prediction = close_model_fit.forecast()\n",
    "open_prediction = open_model_fit.forecast()\n",
    "high_prediction = high_model_fit.forecast()\n",
    "low_prediction = low_model_fit.forecast()\n",
    "\n",
    "high_prediction"
   ]
  },
  {
   "cell_type": "code",
   "execution_count": 48,
   "metadata": {},
   "outputs": [
    {
     "data": {
      "text/html": [
       "<div>\n",
       "<style scoped>\n",
       "    .dataframe tbody tr th:only-of-type {\n",
       "        vertical-align: middle;\n",
       "    }\n",
       "\n",
       "    .dataframe tbody tr th {\n",
       "        vertical-align: top;\n",
       "    }\n",
       "\n",
       "    .dataframe thead th {\n",
       "        text-align: right;\n",
       "    }\n",
       "</style>\n",
       "<table border=\"1\" class=\"dataframe\">\n",
       "  <thead>\n",
       "    <tr style=\"text-align: right;\">\n",
       "      <th></th>\n",
       "      <th>symbol</th>\n",
       "      <th>event_time</th>\n",
       "      <th>base_asset_volume</th>\n",
       "      <th>close</th>\n",
       "      <th>close_time</th>\n",
       "      <th>high</th>\n",
       "      <th>kline_closed</th>\n",
       "      <th>low</th>\n",
       "      <th>number_of_trades</th>\n",
       "      <th>open</th>\n",
       "      <th>quote_asset_volume</th>\n",
       "      <th>start_time</th>\n",
       "    </tr>\n",
       "  </thead>\n",
       "  <tbody>\n",
       "    <tr>\n",
       "      <th>3</th>\n",
       "      <td>BTCEUR</td>\n",
       "      <td>2024-02-14 13:30:00</td>\n",
       "      <td>0.08709</td>\n",
       "      <td>48255.50</td>\n",
       "      <td>2024-02-14 13:29:59</td>\n",
       "      <td>48268.22</td>\n",
       "      <td>True</td>\n",
       "      <td>48246.19</td>\n",
       "      <td>12</td>\n",
       "      <td>48246.19</td>\n",
       "      <td>4202.580628</td>\n",
       "      <td>2024-02-14 13:29:00</td>\n",
       "    </tr>\n",
       "    <tr>\n",
       "      <th>10</th>\n",
       "      <td>BTCEUR</td>\n",
       "      <td>2024-02-14 13:29:00</td>\n",
       "      <td>0.08861</td>\n",
       "      <td>48264.26</td>\n",
       "      <td>2024-02-14 13:28:59</td>\n",
       "      <td>48264.46</td>\n",
       "      <td>True</td>\n",
       "      <td>48249.25</td>\n",
       "      <td>14</td>\n",
       "      <td>48264.46</td>\n",
       "      <td>4275.959418</td>\n",
       "      <td>2024-02-14 13:28:00</td>\n",
       "    </tr>\n",
       "    <tr>\n",
       "      <th>19</th>\n",
       "      <td>BTCEUR</td>\n",
       "      <td>2024-02-14 13:28:00</td>\n",
       "      <td>0.13001</td>\n",
       "      <td>48251.03</td>\n",
       "      <td>2024-02-14 13:27:59</td>\n",
       "      <td>48268.97</td>\n",
       "      <td>True</td>\n",
       "      <td>48251.03</td>\n",
       "      <td>16</td>\n",
       "      <td>48256.20</td>\n",
       "      <td>6273.788420</td>\n",
       "      <td>2024-02-14 13:27:00</td>\n",
       "    </tr>\n",
       "  </tbody>\n",
       "</table>\n",
       "</div>"
      ],
      "text/plain": [
       "    symbol          event_time  base_asset_volume     close  \\\n",
       "3   BTCEUR 2024-02-14 13:30:00            0.08709  48255.50   \n",
       "10  BTCEUR 2024-02-14 13:29:00            0.08861  48264.26   \n",
       "19  BTCEUR 2024-02-14 13:28:00            0.13001  48251.03   \n",
       "\n",
       "            close_time      high  kline_closed       low  number_of_trades  \\\n",
       "3  2024-02-14 13:29:59  48268.22          True  48246.19                12   \n",
       "10 2024-02-14 13:28:59  48264.46          True  48249.25                14   \n",
       "19 2024-02-14 13:27:59  48268.97          True  48251.03                16   \n",
       "\n",
       "        open  quote_asset_volume          start_time  \n",
       "3   48246.19         4202.580628 2024-02-14 13:29:00  \n",
       "10  48264.46         4275.959418 2024-02-14 13:28:00  \n",
       "19  48256.20         6273.788420 2024-02-14 13:27:00  "
      ]
     },
     "execution_count": 48,
     "metadata": {},
     "output_type": "execute_result"
    }
   ],
   "source": [
    "df_test = df_kline_closed.head(3)\n",
    "df_test.head()"
   ]
  },
  {
   "cell_type": "code",
   "execution_count": 52,
   "metadata": {},
   "outputs": [
    {
     "data": {
      "text/plain": [
       "Timedelta('0 days 00:02:00')"
      ]
     },
     "execution_count": 52,
     "metadata": {},
     "output_type": "execute_result"
    }
   ],
   "source": [
    "pd.Timedelta(minutes=2)"
   ]
  },
  {
   "cell_type": "code",
   "execution_count": 56,
   "metadata": {},
   "outputs": [
    {
     "data": {
      "text/plain": [
       "3    2024-02-14 13:29:00\n",
       "10   2024-02-14 13:28:00\n",
       "19   2024-02-14 13:27:00\n",
       "Name: start_time, dtype: datetime64[ns]"
      ]
     },
     "execution_count": 56,
     "metadata": {},
     "output_type": "execute_result"
    }
   ],
   "source": [
    "df_test['start_time']"
   ]
  },
  {
   "cell_type": "code",
   "execution_count": 73,
   "metadata": {},
   "outputs": [
    {
     "data": {
      "text/plain": [
       "Timestamp('2024-02-14 13:29:00')"
      ]
     },
     "execution_count": 73,
     "metadata": {},
     "output_type": "execute_result"
    }
   ],
   "source": [
    "# Add one minute to each timestamp\n",
    "df_new = df_test['start_time'].iloc[0]\n",
    "df_new"
   ]
  },
  {
   "cell_type": "code",
   "execution_count": 7,
   "metadata": {},
   "outputs": [
    {
     "name": "stdout",
     "output_type": "stream",
     "text": [
      "    flag\n",
      "0  False\n",
      "1  False\n",
      "2  False\n",
      "3   True\n",
      "6   True\n",
      "8   True\n"
     ]
    }
   ],
   "source": [
    "import pandas as pd\n",
    "\n",
    "# Sample DataFrame\n",
    "df = pd.DataFrame({'flag': [False, False, False, True, False, False, True, False, True]})\n",
    "\n",
    "# Find the index where the first True occurs\n",
    "first_true_index = df[df['flag']].index[0]\n",
    "\n",
    "# Split the DataFrame into two parts\n",
    "df_before_true = df.iloc[:first_true_index]\n",
    "df_after_true = df.iloc[first_true_index:]\n",
    "\n",
    "# Keep only the True values in the second part\n",
    "df_after_true = df_after_true[df_after_true['flag']]\n",
    "\n",
    "# Concatenate the two parts\n",
    "filtered_df = pd.concat([df_before_true, df_after_true])\n",
    "\n",
    "print(filtered_df)\n"
   ]
  }
 ],
 "metadata": {
  "kernelspec": {
   "display_name": "Python 3",
   "language": "python",
   "name": "python3"
  },
  "language_info": {
   "codemirror_mode": {
    "name": "ipython",
    "version": 3
   },
   "file_extension": ".py",
   "mimetype": "text/x-python",
   "name": "python",
   "nbconvert_exporter": "python",
   "pygments_lexer": "ipython3",
   "version": "3.10.6"
  }
 },
 "nbformat": 4,
 "nbformat_minor": 2
}
